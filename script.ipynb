{
 "cells": [
  {
   "cell_type": "markdown",
   "metadata": {},
   "source": [
    "## Observations and Insights "
   ]
  },
  {
   "cell_type": "code",
   "execution_count": 47,
   "metadata": {},
   "outputs": [
    {
     "data": {
      "text/html": [
       "<div>\n",
       "<style scoped>\n",
       "    .dataframe tbody tr th:only-of-type {\n",
       "        vertical-align: middle;\n",
       "    }\n",
       "\n",
       "    .dataframe tbody tr th {\n",
       "        vertical-align: top;\n",
       "    }\n",
       "\n",
       "    .dataframe thead th {\n",
       "        text-align: right;\n",
       "    }\n",
       "</style>\n",
       "<table border=\"1\" class=\"dataframe\">\n",
       "  <thead>\n",
       "    <tr style=\"text-align: right;\">\n",
       "      <th></th>\n",
       "      <th>Mouse ID</th>\n",
       "      <th>Drug Regimen</th>\n",
       "      <th>Sex</th>\n",
       "      <th>Age_months</th>\n",
       "      <th>Weight (g)</th>\n",
       "      <th>Timepoint</th>\n",
       "      <th>Tumour Volume (mm3)</th>\n",
       "      <th>Metastatic Sites</th>\n",
       "    </tr>\n",
       "  </thead>\n",
       "  <tbody>\n",
       "    <tr>\n",
       "      <th>0</th>\n",
       "      <td>k403</td>\n",
       "      <td>Ramicane</td>\n",
       "      <td>Male</td>\n",
       "      <td>21</td>\n",
       "      <td>16</td>\n",
       "      <td>0</td>\n",
       "      <td>45.000000</td>\n",
       "      <td>0</td>\n",
       "    </tr>\n",
       "    <tr>\n",
       "      <th>1</th>\n",
       "      <td>k403</td>\n",
       "      <td>Ramicane</td>\n",
       "      <td>Male</td>\n",
       "      <td>21</td>\n",
       "      <td>16</td>\n",
       "      <td>5</td>\n",
       "      <td>38.825898</td>\n",
       "      <td>0</td>\n",
       "    </tr>\n",
       "    <tr>\n",
       "      <th>2</th>\n",
       "      <td>k403</td>\n",
       "      <td>Ramicane</td>\n",
       "      <td>Male</td>\n",
       "      <td>21</td>\n",
       "      <td>16</td>\n",
       "      <td>10</td>\n",
       "      <td>35.014271</td>\n",
       "      <td>1</td>\n",
       "    </tr>\n",
       "    <tr>\n",
       "      <th>3</th>\n",
       "      <td>k403</td>\n",
       "      <td>Ramicane</td>\n",
       "      <td>Male</td>\n",
       "      <td>21</td>\n",
       "      <td>16</td>\n",
       "      <td>15</td>\n",
       "      <td>34.223992</td>\n",
       "      <td>1</td>\n",
       "    </tr>\n",
       "    <tr>\n",
       "      <th>4</th>\n",
       "      <td>k403</td>\n",
       "      <td>Ramicane</td>\n",
       "      <td>Male</td>\n",
       "      <td>21</td>\n",
       "      <td>16</td>\n",
       "      <td>20</td>\n",
       "      <td>32.997729</td>\n",
       "      <td>1</td>\n",
       "    </tr>\n",
       "    <tr>\n",
       "      <th>...</th>\n",
       "      <td>...</td>\n",
       "      <td>...</td>\n",
       "      <td>...</td>\n",
       "      <td>...</td>\n",
       "      <td>...</td>\n",
       "      <td>...</td>\n",
       "      <td>...</td>\n",
       "      <td>...</td>\n",
       "    </tr>\n",
       "    <tr>\n",
       "      <th>1888</th>\n",
       "      <td>z969</td>\n",
       "      <td>Naftisol</td>\n",
       "      <td>Male</td>\n",
       "      <td>9</td>\n",
       "      <td>30</td>\n",
       "      <td>25</td>\n",
       "      <td>63.145652</td>\n",
       "      <td>2</td>\n",
       "    </tr>\n",
       "    <tr>\n",
       "      <th>1889</th>\n",
       "      <td>z969</td>\n",
       "      <td>Naftisol</td>\n",
       "      <td>Male</td>\n",
       "      <td>9</td>\n",
       "      <td>30</td>\n",
       "      <td>30</td>\n",
       "      <td>65.841013</td>\n",
       "      <td>3</td>\n",
       "    </tr>\n",
       "    <tr>\n",
       "      <th>1890</th>\n",
       "      <td>z969</td>\n",
       "      <td>Naftisol</td>\n",
       "      <td>Male</td>\n",
       "      <td>9</td>\n",
       "      <td>30</td>\n",
       "      <td>35</td>\n",
       "      <td>69.176246</td>\n",
       "      <td>4</td>\n",
       "    </tr>\n",
       "    <tr>\n",
       "      <th>1891</th>\n",
       "      <td>z969</td>\n",
       "      <td>Naftisol</td>\n",
       "      <td>Male</td>\n",
       "      <td>9</td>\n",
       "      <td>30</td>\n",
       "      <td>40</td>\n",
       "      <td>70.314904</td>\n",
       "      <td>4</td>\n",
       "    </tr>\n",
       "    <tr>\n",
       "      <th>1892</th>\n",
       "      <td>z969</td>\n",
       "      <td>Naftisol</td>\n",
       "      <td>Male</td>\n",
       "      <td>9</td>\n",
       "      <td>30</td>\n",
       "      <td>45</td>\n",
       "      <td>73.867845</td>\n",
       "      <td>4</td>\n",
       "    </tr>\n",
       "  </tbody>\n",
       "</table>\n",
       "<p>1893 rows × 8 columns</p>\n",
       "</div>"
      ],
      "text/plain": [
       "     Mouse ID Drug Regimen   Sex  Age_months  Weight (g)  Timepoint  \\\n",
       "0        k403     Ramicane  Male          21          16          0   \n",
       "1        k403     Ramicane  Male          21          16          5   \n",
       "2        k403     Ramicane  Male          21          16         10   \n",
       "3        k403     Ramicane  Male          21          16         15   \n",
       "4        k403     Ramicane  Male          21          16         20   \n",
       "...       ...          ...   ...         ...         ...        ...   \n",
       "1888     z969     Naftisol  Male           9          30         25   \n",
       "1889     z969     Naftisol  Male           9          30         30   \n",
       "1890     z969     Naftisol  Male           9          30         35   \n",
       "1891     z969     Naftisol  Male           9          30         40   \n",
       "1892     z969     Naftisol  Male           9          30         45   \n",
       "\n",
       "      Tumour Volume (mm3)  Metastatic Sites  \n",
       "0               45.000000                 0  \n",
       "1               38.825898                 0  \n",
       "2               35.014271                 1  \n",
       "3               34.223992                 1  \n",
       "4               32.997729                 1  \n",
       "...                   ...               ...  \n",
       "1888            63.145652                 2  \n",
       "1889            65.841013                 3  \n",
       "1890            69.176246                 4  \n",
       "1891            70.314904                 4  \n",
       "1892            73.867845                 4  \n",
       "\n",
       "[1893 rows x 8 columns]"
      ]
     },
     "execution_count": 47,
     "metadata": {},
     "output_type": "execute_result"
    }
   ],
   "source": [
    "# Dependencies and Setup\n",
    "import matplotlib.pyplot as plt\n",
    "import pandas as pd\n",
    "import scipy.stats as st\n",
    "\n",
    "# Study data files\n",
    "mouse_metadata_path = \"data/Mouse_metadata.csv\"\n",
    "study_results_path = \"data/Study_results.csv\"\n",
    "\n",
    "# Read the mouse data and the study results\n",
    "mouse_metadata = pd.read_csv(mouse_metadata_path)\n",
    "study_results = pd.read_csv(study_results_path)\n",
    "\n",
    "# Combine the data into a single dataset\n",
    "merged_mice_df = pd.merge(mouse_metadata, study_results, how='right', on='Mouse ID')\n",
    "\n",
    "# Display the data table for preview\n",
    "merged_mice_df"
   ]
  },
  {
   "cell_type": "code",
   "execution_count": 48,
   "metadata": {},
   "outputs": [
    {
     "name": "stdout",
     "output_type": "stream",
     "text": [
      "There are 249 mice\n"
     ]
    }
   ],
   "source": [
    "# Checking the number of mice\n",
    "unique_number_mice = merged_mice_df[\"Mouse ID\"].nunique()\n",
    "print(f\"There are {unique_number_mice} mice\")"
   ]
  },
  {
   "cell_type": "code",
   "execution_count": 49,
   "metadata": {},
   "outputs": [
    {
     "data": {
      "text/html": [
       "<div>\n",
       "<style scoped>\n",
       "    .dataframe tbody tr th:only-of-type {\n",
       "        vertical-align: middle;\n",
       "    }\n",
       "\n",
       "    .dataframe tbody tr th {\n",
       "        vertical-align: top;\n",
       "    }\n",
       "\n",
       "    .dataframe thead th {\n",
       "        text-align: right;\n",
       "    }\n",
       "</style>\n",
       "<table border=\"1\" class=\"dataframe\">\n",
       "  <thead>\n",
       "    <tr style=\"text-align: right;\">\n",
       "      <th></th>\n",
       "      <th>Mouse ID</th>\n",
       "      <th>Drug Regimen</th>\n",
       "      <th>Sex</th>\n",
       "      <th>Age_months</th>\n",
       "      <th>Weight (g)</th>\n",
       "      <th>Timepoint</th>\n",
       "      <th>Tumour Volume (mm3)</th>\n",
       "      <th>Metastatic Sites</th>\n",
       "    </tr>\n",
       "  </thead>\n",
       "  <tbody>\n",
       "    <tr>\n",
       "      <th>909</th>\n",
       "      <td>g989</td>\n",
       "      <td>Propriva</td>\n",
       "      <td>Female</td>\n",
       "      <td>21</td>\n",
       "      <td>26</td>\n",
       "      <td>0</td>\n",
       "      <td>45.000000</td>\n",
       "      <td>0</td>\n",
       "    </tr>\n",
       "    <tr>\n",
       "      <th>911</th>\n",
       "      <td>g989</td>\n",
       "      <td>Propriva</td>\n",
       "      <td>Female</td>\n",
       "      <td>21</td>\n",
       "      <td>26</td>\n",
       "      <td>5</td>\n",
       "      <td>47.570392</td>\n",
       "      <td>0</td>\n",
       "    </tr>\n",
       "    <tr>\n",
       "      <th>913</th>\n",
       "      <td>g989</td>\n",
       "      <td>Propriva</td>\n",
       "      <td>Female</td>\n",
       "      <td>21</td>\n",
       "      <td>26</td>\n",
       "      <td>10</td>\n",
       "      <td>49.880528</td>\n",
       "      <td>0</td>\n",
       "    </tr>\n",
       "    <tr>\n",
       "      <th>915</th>\n",
       "      <td>g989</td>\n",
       "      <td>Propriva</td>\n",
       "      <td>Female</td>\n",
       "      <td>21</td>\n",
       "      <td>26</td>\n",
       "      <td>15</td>\n",
       "      <td>53.442020</td>\n",
       "      <td>0</td>\n",
       "    </tr>\n",
       "    <tr>\n",
       "      <th>917</th>\n",
       "      <td>g989</td>\n",
       "      <td>Propriva</td>\n",
       "      <td>Female</td>\n",
       "      <td>21</td>\n",
       "      <td>26</td>\n",
       "      <td>20</td>\n",
       "      <td>54.657650</td>\n",
       "      <td>1</td>\n",
       "    </tr>\n",
       "  </tbody>\n",
       "</table>\n",
       "</div>"
      ],
      "text/plain": [
       "    Mouse ID Drug Regimen     Sex  Age_months  Weight (g)  Timepoint  \\\n",
       "909     g989     Propriva  Female          21          26          0   \n",
       "911     g989     Propriva  Female          21          26          5   \n",
       "913     g989     Propriva  Female          21          26         10   \n",
       "915     g989     Propriva  Female          21          26         15   \n",
       "917     g989     Propriva  Female          21          26         20   \n",
       "\n",
       "     Tumour Volume (mm3)  Metastatic Sites  \n",
       "909            45.000000                 0  \n",
       "911            47.570392                 0  \n",
       "913            49.880528                 0  \n",
       "915            53.442020                 0  \n",
       "917            54.657650                 1  "
      ]
     },
     "execution_count": 49,
     "metadata": {},
     "output_type": "execute_result"
    }
   ],
   "source": [
    "# Checking for duplicate mice based on Mouse ID and timepoint\n",
    "duplicate_mice = merged_mice_df.loc[merged_mice_df.duplicated(subset=[\"Mouse ID\", \"Timepoint\"]), :]\n",
    "duplicate_mice"
   ]
  },
  {
   "cell_type": "code",
   "execution_count": 50,
   "metadata": {},
   "outputs": [
    {
     "data": {
      "text/plain": [
       "'g989'"
      ]
     },
     "execution_count": 50,
     "metadata": {},
     "output_type": "execute_result"
    }
   ],
   "source": [
    "# Getting the mouse ID that is associated with the duplicate values\n",
    "mouse_ID_to_remove = duplicate_mice[\"Mouse ID\"].unique()\n",
    "mouse_ID_to_remove.item()"
   ]
  },
  {
   "cell_type": "code",
   "execution_count": 51,
   "metadata": {},
   "outputs": [
    {
     "data": {
      "text/html": [
       "<div>\n",
       "<style scoped>\n",
       "    .dataframe tbody tr th:only-of-type {\n",
       "        vertical-align: middle;\n",
       "    }\n",
       "\n",
       "    .dataframe tbody tr th {\n",
       "        vertical-align: top;\n",
       "    }\n",
       "\n",
       "    .dataframe thead th {\n",
       "        text-align: right;\n",
       "    }\n",
       "</style>\n",
       "<table border=\"1\" class=\"dataframe\">\n",
       "  <thead>\n",
       "    <tr style=\"text-align: right;\">\n",
       "      <th></th>\n",
       "      <th>Mouse ID</th>\n",
       "      <th>Drug Regimen</th>\n",
       "      <th>Sex</th>\n",
       "      <th>Age_months</th>\n",
       "      <th>Weight (g)</th>\n",
       "      <th>Timepoint</th>\n",
       "      <th>Tumour Volume (mm3)</th>\n",
       "      <th>Metastatic Sites</th>\n",
       "    </tr>\n",
       "  </thead>\n",
       "  <tbody>\n",
       "    <tr>\n",
       "      <th>0</th>\n",
       "      <td>k403</td>\n",
       "      <td>Ramicane</td>\n",
       "      <td>Male</td>\n",
       "      <td>21</td>\n",
       "      <td>16</td>\n",
       "      <td>0</td>\n",
       "      <td>45.000000</td>\n",
       "      <td>0</td>\n",
       "    </tr>\n",
       "    <tr>\n",
       "      <th>1</th>\n",
       "      <td>k403</td>\n",
       "      <td>Ramicane</td>\n",
       "      <td>Male</td>\n",
       "      <td>21</td>\n",
       "      <td>16</td>\n",
       "      <td>5</td>\n",
       "      <td>38.825898</td>\n",
       "      <td>0</td>\n",
       "    </tr>\n",
       "    <tr>\n",
       "      <th>2</th>\n",
       "      <td>k403</td>\n",
       "      <td>Ramicane</td>\n",
       "      <td>Male</td>\n",
       "      <td>21</td>\n",
       "      <td>16</td>\n",
       "      <td>10</td>\n",
       "      <td>35.014271</td>\n",
       "      <td>1</td>\n",
       "    </tr>\n",
       "    <tr>\n",
       "      <th>3</th>\n",
       "      <td>k403</td>\n",
       "      <td>Ramicane</td>\n",
       "      <td>Male</td>\n",
       "      <td>21</td>\n",
       "      <td>16</td>\n",
       "      <td>15</td>\n",
       "      <td>34.223992</td>\n",
       "      <td>1</td>\n",
       "    </tr>\n",
       "    <tr>\n",
       "      <th>4</th>\n",
       "      <td>k403</td>\n",
       "      <td>Ramicane</td>\n",
       "      <td>Male</td>\n",
       "      <td>21</td>\n",
       "      <td>16</td>\n",
       "      <td>20</td>\n",
       "      <td>32.997729</td>\n",
       "      <td>1</td>\n",
       "    </tr>\n",
       "    <tr>\n",
       "      <th>...</th>\n",
       "      <td>...</td>\n",
       "      <td>...</td>\n",
       "      <td>...</td>\n",
       "      <td>...</td>\n",
       "      <td>...</td>\n",
       "      <td>...</td>\n",
       "      <td>...</td>\n",
       "      <td>...</td>\n",
       "    </tr>\n",
       "    <tr>\n",
       "      <th>1883</th>\n",
       "      <td>z969</td>\n",
       "      <td>Naftisol</td>\n",
       "      <td>Male</td>\n",
       "      <td>9</td>\n",
       "      <td>30</td>\n",
       "      <td>25</td>\n",
       "      <td>63.145652</td>\n",
       "      <td>2</td>\n",
       "    </tr>\n",
       "    <tr>\n",
       "      <th>1884</th>\n",
       "      <td>z969</td>\n",
       "      <td>Naftisol</td>\n",
       "      <td>Male</td>\n",
       "      <td>9</td>\n",
       "      <td>30</td>\n",
       "      <td>30</td>\n",
       "      <td>65.841013</td>\n",
       "      <td>3</td>\n",
       "    </tr>\n",
       "    <tr>\n",
       "      <th>1885</th>\n",
       "      <td>z969</td>\n",
       "      <td>Naftisol</td>\n",
       "      <td>Male</td>\n",
       "      <td>9</td>\n",
       "      <td>30</td>\n",
       "      <td>35</td>\n",
       "      <td>69.176246</td>\n",
       "      <td>4</td>\n",
       "    </tr>\n",
       "    <tr>\n",
       "      <th>1886</th>\n",
       "      <td>z969</td>\n",
       "      <td>Naftisol</td>\n",
       "      <td>Male</td>\n",
       "      <td>9</td>\n",
       "      <td>30</td>\n",
       "      <td>40</td>\n",
       "      <td>70.314904</td>\n",
       "      <td>4</td>\n",
       "    </tr>\n",
       "    <tr>\n",
       "      <th>1887</th>\n",
       "      <td>z969</td>\n",
       "      <td>Naftisol</td>\n",
       "      <td>Male</td>\n",
       "      <td>9</td>\n",
       "      <td>30</td>\n",
       "      <td>45</td>\n",
       "      <td>73.867845</td>\n",
       "      <td>4</td>\n",
       "    </tr>\n",
       "  </tbody>\n",
       "</table>\n",
       "<p>1888 rows × 8 columns</p>\n",
       "</div>"
      ],
      "text/plain": [
       "     Mouse ID Drug Regimen   Sex  Age_months  Weight (g)  Timepoint  \\\n",
       "0        k403     Ramicane  Male          21          16          0   \n",
       "1        k403     Ramicane  Male          21          16          5   \n",
       "2        k403     Ramicane  Male          21          16         10   \n",
       "3        k403     Ramicane  Male          21          16         15   \n",
       "4        k403     Ramicane  Male          21          16         20   \n",
       "...       ...          ...   ...         ...         ...        ...   \n",
       "1883     z969     Naftisol  Male           9          30         25   \n",
       "1884     z969     Naftisol  Male           9          30         30   \n",
       "1885     z969     Naftisol  Male           9          30         35   \n",
       "1886     z969     Naftisol  Male           9          30         40   \n",
       "1887     z969     Naftisol  Male           9          30         45   \n",
       "\n",
       "      Tumour Volume (mm3)  Metastatic Sites  \n",
       "0               45.000000                 0  \n",
       "1               38.825898                 0  \n",
       "2               35.014271                 1  \n",
       "3               34.223992                 1  \n",
       "4               32.997729                 1  \n",
       "...                   ...               ...  \n",
       "1883            63.145652                 2  \n",
       "1884            65.841013                 3  \n",
       "1885            69.176246                 4  \n",
       "1886            70.314904                 4  \n",
       "1887            73.867845                 4  \n",
       "\n",
       "[1888 rows x 8 columns]"
      ]
     },
     "execution_count": 51,
     "metadata": {},
     "output_type": "execute_result"
    }
   ],
   "source": [
    "# Removing the duplicate rows based on 'Mouse ID' and 'Timepoint' and keeping the latest entry only\n",
    "clean_merged_mice_df = merged_mice_df.drop_duplicates(subset = [\"Mouse ID\", \"Timepoint\"], keep = 'last').reset_index(drop=True)\n",
    "clean_merged_mice_df"
   ]
  },
  {
   "cell_type": "code",
   "execution_count": 52,
   "metadata": {},
   "outputs": [
    {
     "name": "stdout",
     "output_type": "stream",
     "text": [
      "There are 249 mice\n"
     ]
    }
   ],
   "source": [
    "# Checking the number of mice in the clean DataFrame.\n",
    "unique_number_mice = clean_merged_mice_df[\"Mouse ID\"].nunique()\n",
    "print(f\"There are {unique_number_mice} mice\")"
   ]
  },
  {
   "cell_type": "markdown",
   "metadata": {},
   "source": [
    "## Summary Statistics"
   ]
  },
  {
   "cell_type": "code",
   "execution_count": 53,
   "metadata": {},
   "outputs": [],
   "source": [
    "# Calculating the mean tumour volume for each drug regimen\n",
    "mean_tumour_volume = clean_merged_mice_df.groupby([\"Drug Regimen\"]).mean()[\"Tumour Volume (mm3)\"]\n",
    "\n",
    "# Calculating the median tumour volume for each drug regimen\n",
    "median_tumour_volume = clean_merged_mice_df.groupby([\"Drug Regimen\"]).median()[\"Tumour Volume (mm3)\"]\n",
    "\n",
    "# Calculating the variance in tumour volume for each drug regimen\n",
    "variance_tumour_volume = clean_merged_mice_df.groupby([\"Drug Regimen\"]).var()[\"Tumour Volume (mm3)\"]\n",
    "\n",
    "# Calculating the standard deviation\n",
    "std_tumour_volume = clean_merged_mice_df.groupby([\"Drug Regimen\"]).std()[\"Tumour Volume (mm3)\"]\n",
    "\n",
    "# Calculating the SEM\n",
    "sem_tumour_volume = clean_merged_mice_df.groupby([\"Drug Regimen\"]).sem()[\"Tumour Volume (mm3)\"]"
   ]
  },
  {
   "cell_type": "code",
   "execution_count": 54,
   "metadata": {},
   "outputs": [
    {
     "data": {
      "text/html": [
       "<div>\n",
       "<style scoped>\n",
       "    .dataframe tbody tr th:only-of-type {\n",
       "        vertical-align: middle;\n",
       "    }\n",
       "\n",
       "    .dataframe tbody tr th {\n",
       "        vertical-align: top;\n",
       "    }\n",
       "\n",
       "    .dataframe thead th {\n",
       "        text-align: right;\n",
       "    }\n",
       "</style>\n",
       "<table border=\"1\" class=\"dataframe\">\n",
       "  <thead>\n",
       "    <tr style=\"text-align: right;\">\n",
       "      <th></th>\n",
       "      <th>Mean tumour volume</th>\n",
       "      <th>Median tumour volume</th>\n",
       "      <th>Variance</th>\n",
       "      <th>Standard Deviation</th>\n",
       "      <th>SEM</th>\n",
       "    </tr>\n",
       "  </thead>\n",
       "  <tbody>\n",
       "    <tr>\n",
       "      <th>Capomulin</th>\n",
       "      <td>40.675741</td>\n",
       "      <td>41.557809</td>\n",
       "      <td>24.947764</td>\n",
       "      <td>4.994774</td>\n",
       "      <td>0.329346</td>\n",
       "    </tr>\n",
       "    <tr>\n",
       "      <th>Ceftamin</th>\n",
       "      <td>52.591172</td>\n",
       "      <td>51.776157</td>\n",
       "      <td>39.290177</td>\n",
       "      <td>6.268188</td>\n",
       "      <td>0.469821</td>\n",
       "    </tr>\n",
       "    <tr>\n",
       "      <th>Infubinol</th>\n",
       "      <td>52.884795</td>\n",
       "      <td>51.820584</td>\n",
       "      <td>43.128684</td>\n",
       "      <td>6.567243</td>\n",
       "      <td>0.492236</td>\n",
       "    </tr>\n",
       "    <tr>\n",
       "      <th>Ketapril</th>\n",
       "      <td>55.235638</td>\n",
       "      <td>53.698743</td>\n",
       "      <td>68.553577</td>\n",
       "      <td>8.279709</td>\n",
       "      <td>0.603860</td>\n",
       "    </tr>\n",
       "    <tr>\n",
       "      <th>Naftisol</th>\n",
       "      <td>54.331565</td>\n",
       "      <td>52.509285</td>\n",
       "      <td>66.173479</td>\n",
       "      <td>8.134708</td>\n",
       "      <td>0.596466</td>\n",
       "    </tr>\n",
       "    <tr>\n",
       "      <th>Placebo</th>\n",
       "      <td>54.033581</td>\n",
       "      <td>52.288934</td>\n",
       "      <td>61.168083</td>\n",
       "      <td>7.821003</td>\n",
       "      <td>0.581331</td>\n",
       "    </tr>\n",
       "    <tr>\n",
       "      <th>Propriva</th>\n",
       "      <td>52.382993</td>\n",
       "      <td>50.783528</td>\n",
       "      <td>43.220205</td>\n",
       "      <td>6.574208</td>\n",
       "      <td>0.526358</td>\n",
       "    </tr>\n",
       "    <tr>\n",
       "      <th>Ramicane</th>\n",
       "      <td>40.216745</td>\n",
       "      <td>40.673236</td>\n",
       "      <td>23.486704</td>\n",
       "      <td>4.846308</td>\n",
       "      <td>0.320955</td>\n",
       "    </tr>\n",
       "    <tr>\n",
       "      <th>Stelasyn</th>\n",
       "      <td>54.233149</td>\n",
       "      <td>52.431737</td>\n",
       "      <td>59.450562</td>\n",
       "      <td>7.710419</td>\n",
       "      <td>0.573111</td>\n",
       "    </tr>\n",
       "    <tr>\n",
       "      <th>Zoniferol</th>\n",
       "      <td>53.236507</td>\n",
       "      <td>51.818479</td>\n",
       "      <td>48.533355</td>\n",
       "      <td>6.966589</td>\n",
       "      <td>0.516398</td>\n",
       "    </tr>\n",
       "  </tbody>\n",
       "</table>\n",
       "</div>"
      ],
      "text/plain": [
       "           Mean tumour volume  Median tumour volume   Variance  \\\n",
       "Capomulin           40.675741             41.557809  24.947764   \n",
       "Ceftamin            52.591172             51.776157  39.290177   \n",
       "Infubinol           52.884795             51.820584  43.128684   \n",
       "Ketapril            55.235638             53.698743  68.553577   \n",
       "Naftisol            54.331565             52.509285  66.173479   \n",
       "Placebo             54.033581             52.288934  61.168083   \n",
       "Propriva            52.382993             50.783528  43.220205   \n",
       "Ramicane            40.216745             40.673236  23.486704   \n",
       "Stelasyn            54.233149             52.431737  59.450562   \n",
       "Zoniferol           53.236507             51.818479  48.533355   \n",
       "\n",
       "           Standard Deviation       SEM  \n",
       "Capomulin            4.994774  0.329346  \n",
       "Ceftamin             6.268188  0.469821  \n",
       "Infubinol            6.567243  0.492236  \n",
       "Ketapril             8.279709  0.603860  \n",
       "Naftisol             8.134708  0.596466  \n",
       "Placebo              7.821003  0.581331  \n",
       "Propriva             6.574208  0.526358  \n",
       "Ramicane             4.846308  0.320955  \n",
       "Stelasyn             7.710419  0.573111  \n",
       "Zoniferol            6.966589  0.516398  "
      ]
     },
     "execution_count": 54,
     "metadata": {},
     "output_type": "execute_result"
    }
   ],
   "source": [
    "tumour_volume_summary_stats = pd.DataFrame({ \"Mean tumour volume\": mean_tumour_volume, \n",
    "                                        \"Median tumour volume\" : median_tumour_volume, \n",
    "                                        \"Variance\" : variance_tumour_volume, \n",
    "                                        \"Standard Deviation\" : std_tumour_volume, \n",
    "                                        \"SEM\" : sem_tumour_volume})\n",
    "tumour_volume_summary_stats\n",
    "tumour_volume_summary_stats.index.name=None\n",
    "tumour_volume_summary_stats"
   ]
  },
  {
   "cell_type": "markdown",
   "metadata": {},
   "source": [
    "## Bar and Pie Charts"
   ]
  },
  {
   "cell_type": "code",
   "execution_count": 55,
   "metadata": {},
   "outputs": [
    {
     "data": {
      "image/png": "[encoded data removed]",
      "text/plain": [
       "<Figure size 432x288 with 1 Axes>"
      ]
     },
     "metadata": {
      "needs_background": "light"
     },
     "output_type": "display_data"
    }
   ],
   "source": [
    "# Generate a bar chart showing the total number of timepoints for all mice tested for each drug regimen using Pandas.\n",
    "\n",
    "# Calculating the total number of timepoints for each durg regime\n",
    "drug_counts = clean_merged_mice_df[\"Drug Regimen\"].value_counts()\n",
    "\n",
    "# Charting the bar chart\n",
    "pandas_total_timepoints_chart = drug_counts.plot(kind=\"bar\", title=\"Total Timepoints by Drug Regimen\", color=\"lightskyblue\")\n",
    "pandas_total_timepoints_chart.set_xlabel(\"Drug regimen\")\n",
    "pandas_total_timepoints_chart.set_ylabel(\"Total timepoints\")\n",
    "plt.tight_layout();\n"
   ]
  },
  {
   "cell_type": "code",
   "execution_count": 56,
   "metadata": {},
   "outputs": [
    {
     "data": {
      "image/png": "[encoded data removed]",
      "text/plain": [
       "<Figure size 468x252 with 1 Axes>"
      ]
     },
     "metadata": {
      "needs_background": "light"
     },
     "output_type": "display_data"
    }
   ],
   "source": [
    "# Generate a bar plot showing the total number of timepoints for all mice tested for each drug regimen using pyplot.\n",
    "counts = drug_counts.values\n",
    "x_axis = drug_counts.index.values\n",
    "\n",
    "plt.figure(figsize=(6.5,3.5))\n",
    "plt.bar(x_axis, counts, color='lightskyblue', alpha=1, align = \"center\", width=0.5)\n",
    "plt.xticks(rotation=90)\n",
    "plt.xlabel(\"Drug regimen\")\n",
    "plt.ylabel(\"Total timepoints\")\n",
    "plt.title(\"Total Timepoints by Drug Regimen\")\n",
    "plt.xlim(-0.50, len(x_axis)-0.50);"
   ]
  },
  {
   "cell_type": "code",
   "execution_count": 67,
   "metadata": {},
   "outputs": [
    {
     "data": {
      "image/png": "[encoded data removed]",
      "text/plain": [
       "<Figure size 360x288 with 1 Axes>"
      ]
     },
     "metadata": {},
     "output_type": "display_data"
    }
   ],
   "source": [
    "# Generate a pie plot showing the distribution of female versus male mice using Pandas\n",
    "\n",
    "# Calculating the distribution of female and male mice\n",
    "sex_distribution = mouse_metadata[\"Sex\"].value_counts()\n",
    "\n",
    "# Creating the pie plot\n",
    "sex_distribution.plot(kind=\"pie\", y='sex', autopct=\"%.1f%%\", colors=['lightskyblue', 'violet'], startangle=90, figsize=(5,4), title=\"Distribution of female and male mice\", label=\"\")\n",
    "plt.tight_layout();\n"
   ]
  },
  {
   "cell_type": "code",
   "execution_count": 58,
   "metadata": {},
   "outputs": [
    {
     "data": {
      "image/png": "[encoded data removed]",
      "text/plain": [
       "<Figure size 432x288 with 1 Axes>"
      ]
     },
     "metadata": {},
     "output_type": "display_data"
    }
   ],
   "source": [
    "# Generate a pie plot showing the distribution of female versus male mice using pyplot\n",
    "counts = sex_distribution.values\n",
    "sex = sex_distribution.index.values\n",
    "colors = [\"lightskyblue\", \"violet\"]\n",
    "\n",
    "plt.pie(counts, labels=sex, colors=colors, autopct=\"%1.1f%%\", startangle=90)\n",
    "plt.title(\"Distribution of female and male mice\")\n",
    "plt.axis(\"equal\");\n"
   ]
  },
  {
   "cell_type": "markdown",
   "metadata": {},
   "source": [
    "## Quartiles, Outliers and Boxplots"
   ]
  },
  {
   "cell_type": "code",
   "execution_count": 59,
   "metadata": {},
   "outputs": [
    {
     "name": "stdout",
     "output_type": "stream",
     "text": [
      "The lower quartile of Capomulin is: 32.38\n",
      "The upper quartile of Capomulin is: 40.16\n",
      "The interquartile range of Capomulin is: 7.78\n",
      "The the median of Capomulin is: 38.13 \n",
      "Values below 20.70 could be outliers.\n",
      "Values above 51.83 could be outliers.\n",
      "\n",
      "The lower quartile of Ramicane is: 31.56\n",
      "The upper quartile of Ramicane is: 40.66\n",
      "The interquartile range of Ramicane is: 9.10\n",
      "The the median of Ramicane is: 36.56 \n",
      "Values below 17.91 could be outliers.\n",
      "Values above 54.31 could be outliers.\n",
      "\n",
      "The lower quartile of Infubinol is: 54.05\n",
      "The upper quartile of Infubinol is: 65.53\n",
      "The interquartile range of Infubinol is: 11.48\n",
      "The the median of Infubinol is: 60.17 \n",
      "Values below 36.83 could be outliers.\n",
      "Values above 82.74 could be outliers.\n",
      "\n",
      "The lower quartile of Ceftamin is: 48.72\n",
      "The upper quartile of Ceftamin is: 64.30\n",
      "The interquartile range of Ceftamin is: 15.58\n",
      "The the median of Ceftamin is: 59.85 \n",
      "Values below 25.36 could be outliers.\n",
      "Values above 87.67 could be outliers.\n",
      "\n"
     ]
    }
   ],
   "source": [
    "# Calculate the final tumor volume of each mouse across four of the treatment regimens: Capomulin, Ramicane, Infubinol, and Ceftamin\n",
    "\n",
    "# Finding the final timepoint for each mouse\n",
    "last_time_point_df = clean_merged_mice_df.groupby([\"Mouse ID\"])[\"Timepoint\"].max()\n",
    "\n",
    "# Merging the final timepoint data with the cleaned merged file to bring back the data for each mouse at the relevant timepoint\n",
    "last_timepoint_merged_data_df = pd.merge(last_time_point_df, clean_merged_mice_df, how='left', on=['Mouse ID', 'Timepoint'])\n",
    "last_timepoint_merged_data_df = last_timepoint_merged_data_df.reset_index(drop=True)\n",
    "\n",
    "# Putting treatments into a list for the loop \n",
    "treatment_list = ['Capomulin', 'Ramicane', 'Infubinol', 'Ceftamin']\n",
    "\n",
    "# Creating an empty list to fill with tumour volume data\n",
    "tumour_volume_data = []\n",
    "\n",
    "# Looping through each drug in the treatment list and appending the resulting final tumour volumes to the 'tumour volume data' list.\n",
    "for drug in treatment_list:\n",
    "    drug_data = last_timepoint_merged_data_df.loc[last_timepoint_merged_data_df[\"Drug Regimen\"] == drug, \"Tumour Volume (mm3)\"]\n",
    "    tumour_volume_data.append(drug_data)\n",
    "    \n",
    "    # Using pandas for the quartile calculations\n",
    "    quartiles = drug_data.quantile([.25,.5,.75])\n",
    "    lowerq = quartiles[0.25]\n",
    "    upperq = quartiles[0.75]\n",
    "    iqr = upperq-lowerq\n",
    "\n",
    "    # Printing out the relevant information\n",
    "    print(f\"The lower quartile of {drug} is: {lowerq:.2f}\")\n",
    "    print(f\"The upper quartile of {drug} is: {upperq:.2f}\")\n",
    "    print(f\"The interquartile range of {drug} is: {iqr:.2f}\")\n",
    "    print(f\"The the median of {drug} is: {quartiles[0.5]:.2f} \")\n",
    "\n",
    "    lower_bound = lowerq - (1.5*iqr)\n",
    "    upper_bound = upperq + (1.5*iqr)\n",
    "    print(f\"Values below {lower_bound:.2f} could be outliers.\")\n",
    "    print(f\"Values above {upper_bound:.2f} could be outliers.\")\n",
    "    print()\n"
   ]
  },
  {
   "cell_type": "code",
   "execution_count": 60,
   "metadata": {},
   "outputs": [
    {
     "data": {
      "image/png": "[encoded data removed]",
      "text/plain": [
       "<Figure size 432x288 with 1 Axes>"
      ]
     },
     "metadata": {
      "needs_background": "light"
     },
     "output_type": "display_data"
    }
   ],
   "source": [
    "# Box plot of the distrubition of the final tumour volumes for all mice in each of the four drug regimens\n",
    "fig1, ax1 = plt.subplots()\n",
    "ax1.set_title('Final Tumour Volume by Drug Regimen')\n",
    "ax1.set_ylabel('Tumour volume (mm3)')\n",
    "flierprops = dict(markerfacecolor='r')\n",
    "ax1.boxplot(tumour_volume_data, labels=treatment_list, flierprops=flierprops)\n",
    "plt.ylim(0, 80)\n",
    "plt.show()"
   ]
  },
  {
   "cell_type": "markdown",
   "metadata": {},
   "source": [
    "## Line and Scatter Plots"
   ]
  },
  {
   "cell_type": "code",
   "execution_count": 61,
   "metadata": {},
   "outputs": [
    {
     "data": {
      "image/png": "[encoded data removed]",
      "text/plain": [
       "<Figure size 432x288 with 1 Axes>"
      ]
     },
     "metadata": {
      "needs_background": "light"
     },
     "output_type": "display_data"
    }
   ],
   "source": [
    "# Generate a line plot of tumour volume vs. time point for a mouse treated with Capomulin\n",
    "\n",
    "# Selecting the mouse and defining the x and y values\n",
    "the_chosen_mouse_df = clean_merged_mice_df.loc[clean_merged_mice_df[\"Mouse ID\"] == \"s185\"]\n",
    "tumour_volume = the_chosen_mouse_df[\"Tumour Volume (mm3)\"]\n",
    "timepoint = the_chosen_mouse_df[\"Timepoint\"]\n",
    "\n",
    "# Charting the line plot\n",
    "the_chosen_mouse_line_plot, = plt.plot(timepoint, tumour_volume, color=\"lightskyblue\", label=\"Mouse s185\", linewidth=3)\n",
    "plt.xlabel(\"Timepoint\")\n",
    "plt.ylabel(\"Tumour volume (mm3)\")\n",
    "plt.title(\"Capomulin Regimen - Mouse s185 - tumour volume by timepoint\")\n",
    "plt.ylim([0, 50]);"
   ]
  },
  {
   "cell_type": "code",
   "execution_count": 62,
   "metadata": {},
   "outputs": [
    {
     "data": {
      "image/png": "[encoded data removed]",
      "text/plain": [
       "<Figure size 432x288 with 1 Axes>"
      ]
     },
     "metadata": {
      "needs_background": "light"
     },
     "output_type": "display_data"
    },
    {
     "data": {
      "text/plain": [
       "<Figure size 7200x7200 with 0 Axes>"
      ]
     },
     "metadata": {},
     "output_type": "display_data"
    }
   ],
   "source": [
    "# Generate a scatter plot of average tumour volume vs. mouse weight for the Capomulin regimen\n",
    "\n",
    "# Selecting the mice on the Capomulin regimen\n",
    "capomulin_regimen = clean_merged_mice_df.loc[clean_merged_mice_df[\"Drug Regimen\"] == \"Capomulin\", :]\n",
    "\n",
    "# Calculating the average tumour volume for each mouse, getting their weight, and renaming the column\n",
    "average_tumour_volume = capomulin_regimen.groupby([\"Mouse ID\"]).mean()[[\"Tumour Volume (mm3)\", \"Weight (g)\"]]\n",
    "average_tumour_volume = average_tumour_volume.rename(columns={\"Tumour Volume (mm3)\" : \"Average Tumour Volume (mm3)\"})\n",
    "\n",
    "# Charting the scatter plot\n",
    "x_axis = average_tumour_volume[\"Weight (g)\"]\n",
    "data = average_tumour_volume[\"Average Tumour Volume (mm3)\"]\n",
    "plt.scatter(x_axis, data, marker=\"o\", facecolors=\"lightskyblue\", edgecolors=\"blue\", alpha=0.75)\n",
    "plt.ylim(0, 60)\n",
    "plt.xlim(0, 30)\n",
    "plt.xlabel(\"Mouse weight (g)\")\n",
    "plt.ylabel(\"Average tumour volume by mouse (mm3)\")\n",
    "plt.title(\"Capomulin Regimen - Average mouse tumour volume by weight\")\n",
    "plt.figure(figsize=(100,100));"
   ]
  },
  {
   "cell_type": "markdown",
   "metadata": {},
   "source": [
    "## Correlation and Regression"
   ]
  },
  {
   "cell_type": "code",
   "execution_count": 63,
   "metadata": {},
   "outputs": [
    {
     "name": "stdout",
     "output_type": "stream",
     "text": [
      "The correlation between mouse weight and average tumour volume for the Capomulin regimen is 0.84\n"
     ]
    }
   ],
   "source": [
    "# Calculating the correlation coefficent for mouse weight and average tumour volume for the Capomulin regimen\n",
    "tumour_volume = average_tumour_volume[\"Average Tumour Volume (mm3)\"]\n",
    "weight = average_tumour_volume[\"Weight (g)\"]\n",
    "correlation = st.pearsonr(tumour_volume, weight)\n",
    "print(f\"The correlation between mouse weight and average tumour volume for the Capomulin regimen is {round(correlation[0],2)}\")\n"
   ]
  },
  {
   "cell_type": "code",
   "execution_count": 64,
   "metadata": {},
   "outputs": [
    {
     "name": "stdout",
     "output_type": "stream",
     "text": [
      "The r-squared is: 0.708857\n"
     ]
    },
    {
     "data": {
      "image/png": "[encoded data removed]",
      "text/plain": [
       "<Figure size 432x288 with 1 Axes>"
      ]
     },
     "metadata": {
      "needs_background": "light"
     },
     "output_type": "display_data"
    }
   ],
   "source": [
    "# Calcuating the linear regression model for mouse weight and average tumour volume for the Capomulin regimen\n",
    "from scipy.stats import linregress\n",
    "x_values = average_tumour_volume[\"Weight (g)\"]\n",
    "y_values = average_tumour_volume[\"Average Tumour Volume (mm3)\"]\n",
    "(slope, intercept, rvalue, pvalue, stderr) = linregress(x_values, y_values)\n",
    "print(f\"The r-squared is: {rvalue**2:.6f}\")\n",
    "\n",
    "regress_values = x_values * slope + intercept\n",
    "line_eq = \"y = \" + str(round(slope,2)) + \"x + \" + str(round(intercept,2))\n",
    "# plt.scatter(x_values, y_values)\n",
    "plt.scatter(x_axis, y_values, marker=\"o\", facecolors=\"lightskyblue\", edgecolors=\"blue\", alpha=0.75)\n",
    "plt.plot(x_values,regress_values,\"r-\")\n",
    "plt.annotate(line_eq,(15,30),fontsize=12,color=\"red\")\n",
    "plt.xlabel('Mouse weight (g)')\n",
    "plt.ylabel('Average tumour volume by mouse (mm3)')\n",
    "plt.title(\"Capomulin Regimen - Average mouse tumour volume by weight\")\n",
    "plt.xlim(0, 30)\n",
    "plt.ylim(0,60)\n",
    "plt.show()\n",
    "\n"
   ]
  }
 ],
 "metadata": {
  "anaconda-cloud": {},
  "kernelspec": {
   "display_name": "PythonData",
   "language": "python",
   "name": "python3"
  },
  "language_info": {
   "codemirror_mode": {
    "name": "ipython",
    "version": 3
   },
   "file_extension": ".py",
   "mimetype": "text/x-python",
   "name": "python",
   "nbconvert_exporter": "python",
   "pygments_lexer": "ipython3",
   "version": "3.7.7"
  },
  "vscode": {
   "interpreter": {
    "hash": "36caff6c9c02ddf9c80bf3a47b52dcc003663f4f02b1c64a29eab689b8ef0ba0"
   }
  }
 },
 "nbformat": 4,
 "nbformat_minor": 4
}
